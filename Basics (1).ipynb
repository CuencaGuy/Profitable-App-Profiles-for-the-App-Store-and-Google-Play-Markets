{
 "cells": [
  {
   "cell_type": "markdown",
   "metadata": {},
   "source": [
    "# Profitable App Profiles for the App Store and Google Play Markets\n",
    "\n",
    "The purpose of this project is to find opportunities for application development that will be successful both on Google Play and in the App Store.\n",
    "\n",
    "The company for which we are preparing this information only develops free applications where revenue is tied to in-app ads, so it is important to develop applications that people will continue to enjoy and play. We want to maximize both total number of downloads and time spent in the app in order to maximize profit. To do this, we will look at a sample of applications from both Google Play and the App Store to attempt to find factors we can replicate in order to increase profitability."
   ]
  },
  {
   "cell_type": "markdown",
   "metadata": {},
   "source": [
    "# Importing Data\n",
    "\n",
    "As of the third quarter of 2022, [there were approximately 3.55 million applications available on Google Play and approximately 1.6 million apps available via the App Store](https://www.statista.com/statistics/276623/number-of-apps-available-in-leading-app-stores/). Processing this amount of data is a significant investment of time and money, so we'll analyze a sample of the data.\n",
    "\n",
    "* [A dataset](https://www.kaggle.com/lava18/google-play-store-apps) with about 10,000 applications available via Google Play. The data was collected in August 2018 and can be downloaded directly with [this link](https://dq-content.s3.amazonaws.com/350/googleplaystore.csv).\n",
    "* [A dataset](https://www.kaggle.com/ramamet4/app-store-apple-data-set-10k-apps) with about 10,000 applications available via the Apple App Store. The data was collected in August 2018 and can be downloaded directly with [this link](https://dq-content.s3.amazonaws.com/350/AppleStore.csv).\n"
   ]
  },
  {
   "cell_type": "code",
   "execution_count": 1,
   "metadata": {},
   "outputs": [],
   "source": [
    "from csv import reader\n",
    "\n",
    "opened_file = open('AppleStore.csv')\n",
    "read_file = reader(opened_file)\n",
    "\n",
    "# The dataset for Apple App Store apps\n",
    "apple_dataset = list(read_file)\n",
    "\n",
    "# We separate the first entry as it is a header and not an application \n",
    "apple_header = apple_dataset[0]\n",
    "apple_dataset = apple_dataset[1:]\n",
    "\n",
    "opened_file = open('googleplaystore.csv')\n",
    "read_file = reader(opened_file)\n",
    "\n",
    "# The dataset for Google Play apps\n",
    "google_dataset = list(read_file)\n",
    "\n",
    "# Again, we separate the first entry as it is a header and not an application \n",
    "google_header = google_dataset[0]\n",
    "google_dataset = google_dataset[1:]"
   ]
  },
  {
   "cell_type": "markdown",
   "metadata": {},
   "source": [
    "After importing the data, we first write a function to help us work with the data, enabling use to print rows in a readable way."
   ]
  },
  {
   "cell_type": "code",
   "execution_count": 2,
   "metadata": {},
   "outputs": [],
   "source": [
    "def explore_data(dataset, start, end, rows_and_columns=False):\n",
    "    dataset_slice = dataset[start:end]    \n",
    "    for row in dataset_slice:\n",
    "        print(row)\n",
    "        print('\\n') # adds a new (empty) line after each row\n",
    "\n",
    "    if rows_and_columns:\n",
    "        print('Number of rows:', len(dataset))\n",
    "        print('Number of columns:', len(dataset[0]))"
   ]
  },
  {
   "cell_type": "markdown",
   "metadata": {},
   "source": [
    "Before continuing, we print a piece of each dataset in order to make sure that everything is working properly."
   ]
  },
  {
   "cell_type": "code",
   "execution_count": 3,
   "metadata": {
    "scrolled": true
   },
   "outputs": [
    {
     "name": "stdout",
     "output_type": "stream",
     "text": [
      "['284882215', 'Facebook', '389879808', 'USD', '0.0', '2974676', '212', '3.5', '3.5', '95.0', '4+', 'Social Networking', '37', '1', '29', '1']\n",
      "\n",
      "\n",
      "['389801252', 'Instagram', '113954816', 'USD', '0.0', '2161558', '1289', '4.5', '4.0', '10.23', '12+', 'Photo & Video', '37', '0', '29', '1']\n",
      "\n",
      "\n",
      "['529479190', 'Clash of Clans', '116476928', 'USD', '0.0', '2130805', '579', '4.5', '4.5', '9.24.12', '9+', 'Games', '38', '5', '18', '1']\n",
      "\n",
      "\n",
      "Number of rows: 7197\n",
      "Number of columns: 16\n",
      "\n",
      "\n",
      "['Photo Editor & Candy Camera & Grid & ScrapBook', 'ART_AND_DESIGN', '4.1', '159', '19M', '10,000+', 'Free', '0', 'Everyone', 'Art & Design', 'January 7, 2018', '1.0.0', '4.0.3 and up']\n",
      "\n",
      "\n",
      "['Coloring book moana', 'ART_AND_DESIGN', '3.9', '967', '14M', '500,000+', 'Free', '0', 'Everyone', 'Art & Design;Pretend Play', 'January 15, 2018', '2.0.0', '4.0.3 and up']\n",
      "\n",
      "\n",
      "['U Launcher Lite – FREE Live Cool Themes, Hide Apps', 'ART_AND_DESIGN', '4.7', '87510', '8.7M', '5,000,000+', 'Free', '0', 'Everyone', 'Art & Design', 'August 1, 2018', '1.2.4', '4.0.3 and up']\n",
      "\n",
      "\n",
      "Number of rows: 10841\n",
      "Number of columns: 13\n"
     ]
    }
   ],
   "source": [
    "explore_data(apple_dataset, 0, 3, True)\n",
    "print('\\n')\n",
    "explore_data(google_dataset, 0, 3, True)"
   ]
  },
  {
   "cell_type": "markdown",
   "metadata": {},
   "source": [
    "It will also be helpful to print the column names so that we can look through these for datapoints which can help us with our analysis."
   ]
  },
  {
   "cell_type": "code",
   "execution_count": 4,
   "metadata": {
    "scrolled": false
   },
   "outputs": [
    {
     "name": "stdout",
     "output_type": "stream",
     "text": [
      "['App', 'Category', 'Rating', 'Reviews', 'Size', 'Installs', 'Type', 'Price', 'Content Rating', 'Genres', 'Last Updated', 'Current Ver', 'Android Ver']\n"
     ]
    }
   ],
   "source": [
    "print(google_header)"
   ]
  },
  {
   "cell_type": "markdown",
   "metadata": {},
   "source": [
    "Looking through these columns, we would find 'App', 'Category', 'Rating', 'Reviews', 'Installs', 'Price', and 'Genre' likely to contain the information most relevant to our purposes."
   ]
  },
  {
   "cell_type": "code",
   "execution_count": 5,
   "metadata": {},
   "outputs": [
    {
     "name": "stdout",
     "output_type": "stream",
     "text": [
      "['id', 'track_name', 'size_bytes', 'currency', 'price', 'rating_count_tot', 'rating_count_ver', 'user_rating', 'user_rating_ver', 'ver', 'cont_rating', 'prime_genre', 'sup_devices.num', 'ipadSc_urls.num', 'lang.num', 'vpp_lic']\n"
     ]
    }
   ],
   "source": [
    "print(apple_header)"
   ]
  },
  {
   "cell_type": "markdown",
   "metadata": {},
   "source": [
    "The columns for the App Store dataset are not as self-explanatory. More information about each column header can be found [here](https://www.kaggle.com/datasets/ramamet4/app-store-apple-data-set-10k-apps), but the columns we are likely to find most useful will be 'track_name', 'price', 'rating_count_tot', 'user_rating', and 'prime_genre'."
   ]
  },
  {
   "cell_type": "markdown",
   "metadata": {},
   "source": [
    "# Cleaning the Data\n",
    "\n",
    "\n",
    "## Step 1: Removing Errors"
   ]
  },
  {
   "cell_type": "markdown",
   "metadata": {},
   "source": [
    "The Google Play dataset has a dedicated discussion section, and a search through that section reveals a discussion that describes an error found the list at index 10472. Let's print a few rows to verify that the error is in this row."
   ]
  },
  {
   "cell_type": "code",
   "execution_count": 6,
   "metadata": {},
   "outputs": [
    {
     "name": "stdout",
     "output_type": "stream",
     "text": [
      "['Xposed Wi-Fi-Pwd', 'PERSONALIZATION', '3.5', '1042', '404k', '100,000+', 'Free', '0', 'Everyone', 'Personalization', 'August 5, 2014', '3.0.0', '4.0.3 and up']\n",
      "\n",
      "\n",
      "['Life Made WI-Fi Touchscreen Photo Frame', '1.9', '19', '3.0M', '1,000+', 'Free', '0', 'Everyone', '', 'February 11, 2018', '1.0.19', '4.0 and up']\n",
      "\n",
      "\n",
      "['osmino Wi-Fi: free WiFi', 'TOOLS', '4.2', '134203', '4.1M', '10,000,000+', 'Free', '0', 'Everyone', 'Tools', 'August 7, 2018', '6.06.14', '4.4 and up']\n",
      "\n",
      "\n"
     ]
    }
   ],
   "source": [
    "explore_data(google_dataset, 10471, 10474)"
   ]
  },
  {
   "cell_type": "markdown",
   "metadata": {},
   "source": [
    "Looking at the second row, we see that this entry doesn't have a defined genre. We can also see that the error is in fact in the list at index 10472. We'll delete this row and then re-print the surrounding rows to verify that it has been deleted properly. We must be careful to only run the delete command once or we will delete other, correct entries as the list will shift and a different application without an error will now take the same place (index 10472) in the list."
   ]
  },
  {
   "cell_type": "code",
   "execution_count": 7,
   "metadata": {
    "scrolled": true
   },
   "outputs": [
    {
     "name": "stdout",
     "output_type": "stream",
     "text": [
      "['Xposed Wi-Fi-Pwd', 'PERSONALIZATION', '3.5', '1042', '404k', '100,000+', 'Free', '0', 'Everyone', 'Personalization', 'August 5, 2014', '3.0.0', '4.0.3 and up']\n",
      "\n",
      "\n",
      "['osmino Wi-Fi: free WiFi', 'TOOLS', '4.2', '134203', '4.1M', '10,000,000+', 'Free', '0', 'Everyone', 'Tools', 'August 7, 2018', '6.06.14', '4.4 and up']\n",
      "\n",
      "\n",
      "['Sat-Fi Voice', 'COMMUNICATION', '3.4', '37', '14M', '1,000+', 'Free', '0', 'Everyone', 'Communication', 'November 21, 2014', '2.2.1.5', '2.2 and up']\n",
      "\n",
      "\n"
     ]
    }
   ],
   "source": [
    "del google_dataset[10472] #Be sure to only run this line once\n",
    "\n",
    "explore_data(google_dataset, 10471, 10474)"
   ]
  },
  {
   "cell_type": "markdown",
   "metadata": {},
   "source": [
    "## Step 2: Removing Duplicates\n",
    "\n",
    "If we explore the Google play data set enough, we will see that some apps have duplicate entries. For example, Instagram has four entries."
   ]
  },
  {
   "cell_type": "code",
   "execution_count": 8,
   "metadata": {
    "scrolled": true
   },
   "outputs": [
    {
     "name": "stdout",
     "output_type": "stream",
     "text": [
      "['Instagram', 'SOCIAL', '4.5', '66577313', 'Varies with device', '1,000,000,000+', 'Free', '0', 'Teen', 'Social', 'July 31, 2018', 'Varies with device', 'Varies with device']\n",
      "['Instagram', 'SOCIAL', '4.5', '66577446', 'Varies with device', '1,000,000,000+', 'Free', '0', 'Teen', 'Social', 'July 31, 2018', 'Varies with device', 'Varies with device']\n",
      "['Instagram', 'SOCIAL', '4.5', '66577313', 'Varies with device', '1,000,000,000+', 'Free', '0', 'Teen', 'Social', 'July 31, 2018', 'Varies with device', 'Varies with device']\n",
      "['Instagram', 'SOCIAL', '4.5', '66509917', 'Varies with device', '1,000,000,000+', 'Free', '0', 'Teen', 'Social', 'July 31, 2018', 'Varies with device', 'Varies with device']\n"
     ]
    }
   ],
   "source": [
    "for app in google_dataset:\n",
    "    name = app[0]\n",
    "    if name == 'Instagram':\n",
    "        print(app)"
   ]
  },
  {
   "cell_type": "markdown",
   "metadata": {},
   "source": [
    "We can search through the data and find whether there are more duplicate entries. Below, we can see that there are a large number of duplicate apps in the Google Play dataset, a total of 1181 of the 10841 apps or 10.89%. We also check the Apple Store dataset and find that there are no duplicates."
   ]
  },
  {
   "cell_type": "code",
   "execution_count": 9,
   "metadata": {},
   "outputs": [
    {
     "name": "stdout",
     "output_type": "stream",
     "text": [
      "Number of duplicate Google Play apps: 1181\n",
      "Number of non-duplicate Google Play apps: 9659\n",
      "Percent of duplicate Google Play apps: 10.89%\n",
      "\n",
      "\n",
      "Number of duplicate Apple Store apps: 0\n"
     ]
    }
   ],
   "source": [
    "# Check the Google Play dataset for duplicates\n",
    "unique_apps = []\n",
    "duplicate_apps = []\n",
    "\n",
    "for app in google_dataset:\n",
    "    name = app[0]\n",
    "    if name not in unique_apps:\n",
    "        unique_apps.append(name)\n",
    "    else:\n",
    "        duplicate_apps.append(name)\n",
    "\n",
    "duplicates = len(duplicate_apps)\n",
    "percentage = round(len(duplicate_apps) / len(google_dataset) * 100, 2)\n",
    "        \n",
    "print(\"Number of duplicate Google Play apps: \" + str(duplicates))\n",
    "print(\"Number of non-duplicate Google Play apps: \" + str(len(google_dataset) - duplicates))\n",
    "print(\"Percent of duplicate Google Play apps: \" + str(percentage) +\"%\")\n",
    "\n",
    "\n",
    "# Re-initialize these lists and check the Apple Store dataset for duplicates.\n",
    "unique_apps = []\n",
    "duplicate_apps = []\n",
    "\n",
    "for app in apple_dataset:\n",
    "    app_id = app[0]\n",
    "    if app_id not in unique_apps:\n",
    "        unique_apps.append(app_id)\n",
    "    else:\n",
    "        duplicate_apps.append(app_id)\n",
    "\n",
    "duplicates = len(duplicate_apps)\n",
    "percentage = round(len(duplicate_apps) / len(apple_dataset) * 100, 2)\n",
    "\n",
    "print(\"\\n\")\n",
    "print(\"Number of duplicate Apple Store apps: \" + str(duplicates))"
   ]
  },
  {
   "cell_type": "markdown",
   "metadata": {},
   "source": [
    "In order to analyze the data correctly, we need to remove all of the duplicate entries. However, as you can see with the \"Instagram\" example above, the duplicate entries are not exactly the same. We could remove the duplicates randomly, but the best way would likely be to keep the entry with the most number of reviews as this should give us the most recent information."
   ]
  },
  {
   "cell_type": "code",
   "execution_count": 10,
   "metadata": {},
   "outputs": [
    {
     "name": "stdout",
     "output_type": "stream",
     "text": [
      "9659\n"
     ]
    }
   ],
   "source": [
    "reviews_max = {} \n",
    "\n",
    "for app in google_dataset:\n",
    "    name = app[0]\n",
    "    n_reviews = float(app[3])\n",
    "    \n",
    "    # If the application is not in the dictionary, add it\n",
    "    if name not in reviews_max: \n",
    "        reviews_max[name] = n_reviews\n",
    "        \n",
    "    # If it is in the dictionary, make sure we have the entry with the most reviews    \n",
    "    elif n_reviews > reviews_max[name]: \n",
    "        reviews_max[name] = n_reviews\n",
    " \n",
    "print(len(reviews_max)) # This should match the number of non-duplicate apps"
   ]
  },
  {
   "cell_type": "markdown",
   "metadata": {},
   "source": [
    "Now we have a dictionary that contains the names of all of the apps we want in our list as well as the corresponding maximum number of reviews. With that information, we can choose the correct instance of that app in our list and compile a new, cleaned list without all of the duplicate entries.\n",
    "\n",
    "To do that we:\n",
    "1. Create a dictionary `android_clean` that will hold the new list and a dictionary `already_added` to assist us in removing duplicate entries.\n",
    "2. Loop through every app in the dataset, recording the name of the app and its number of reviews in `name` and `n_reviews` respectively.\n",
    "3. If the number of reviews is the same as the number we determined from our previous code above *and* the name is not already in the list, we add the full set of app information to the `android_clean` list and the name of the app to the `already_added` list.\n",
    "\n",
    "Note: We need to check that the name is not in `already_added` as some duplicate entries may have the same number of total reviews as can be seen from the duplicate \"Instagram\" entries listed above."
   ]
  },
  {
   "cell_type": "code",
   "execution_count": 11,
   "metadata": {},
   "outputs": [
    {
     "name": "stdout",
     "output_type": "stream",
     "text": [
      "9659\n"
     ]
    }
   ],
   "source": [
    "# The new list for Google Play with no duplicate apps\n",
    "google_unique = []\n",
    "already_added = []\n",
    "\n",
    "for app in google_dataset:\n",
    "    name = app[0]\n",
    "    n_reviews = float(app[3])\n",
    "    if n_reviews == reviews_max[name] and name not in already_added: # We need to check both of these conditions\n",
    "        google_unique.append(app)\n",
    "        already_added.append(name)\n",
    "    \n",
    "print(len(google_unique)) #Verify once again that we have the correct number of entries       \n",
    "    "
   ]
  },
  {
   "cell_type": "markdown",
   "metadata": {},
   "source": [
    "## Step 3: Isolating English-Language Applications\n",
    "\n",
    "As this data is being prepared for a company that makes English-language applications, we would like to look only at apps designed for an English-speaking audience. However, we can see that there are apps with names that suggest they are not designed for that audience."
   ]
  },
  {
   "cell_type": "code",
   "execution_count": 12,
   "metadata": {
    "scrolled": true
   },
   "outputs": [
    {
     "name": "stdout",
     "output_type": "stream",
     "text": [
      "爱奇艺PPS -《欢乐颂2》电视剧热播\n",
      "【脱出ゲーム】絶対に最後までプレイしないで 〜謎解き＆ブロックパズル〜\n",
      "\n",
      "\n",
      "中国語 AQリスニング\n",
      "لعبة تقدر تربح DZ\n"
     ]
    }
   ],
   "source": [
    "print(apple_dataset[813][1])\n",
    "print(apple_dataset[6731][1])\n",
    "print(\"\\n\")\n",
    "print(google_unique[4412][0])\n",
    "print(google_unique[7940][0])"
   ]
  },
  {
   "cell_type": "markdown",
   "metadata": {},
   "source": [
    "To remove these applications, we'll write a function to look through each of the app names for non-English-language characters. This can be done using the [ASCII](https://en.wikipedia.org/wiki/ASCII) (American Standard Code for Information Interchange) system. In ASCII, all of the characters commonly used in English text are indexed in the range from 0 to 127. We can use the built-in ord() function to check each of the app names. If we find a character which falls outside of this range, we can assume that the app is not designed for English speakers. "
   ]
  },
  {
   "cell_type": "code",
   "execution_count": 13,
   "metadata": {},
   "outputs": [
    {
     "name": "stdout",
     "output_type": "stream",
     "text": [
      "True\n",
      "False\n",
      "False\n",
      "False\n"
     ]
    }
   ],
   "source": [
    "def english_characters(name):\n",
    "    for character in name:\n",
    "        if ord(character) > 127:\n",
    "            return False\n",
    "    return True\n",
    "\n",
    "print(english_characters('Instagram'))\n",
    "print(english_characters('爱奇艺PPS -《欢乐颂2》电视剧热播'))\n",
    "print(english_characters('Docs To Go™ Free Office Suite'))\n",
    "print(english_characters('Instachat 😜'))"
   ]
  },
  {
   "cell_type": "markdown",
   "metadata": {},
   "source": [
    "However, there is a problem in that emojis and characters such as ™ are outside the ASCII range we have set. To avoid removing English-language apps that use these characters, we'll rewrite our function to remove an application only if its name has more than three characters that fall outside of the standard English-language range. This may not be perfect, but it should work fairly well to accomplish our purposes."
   ]
  },
  {
   "cell_type": "code",
   "execution_count": 14,
   "metadata": {},
   "outputs": [
    {
     "name": "stdout",
     "output_type": "stream",
     "text": [
      "False\n",
      "True\n",
      "True\n"
     ]
    }
   ],
   "source": [
    "def english_characters(name):\n",
    "    foreign = 0\n",
    "    for character in name:\n",
    "        if ord(character) > 127:\n",
    "            foreign += 1\n",
    "        if foreign > 3:\n",
    "            return False\n",
    "    return True\n",
    "\n",
    "print(english_characters('爱奇艺PPS -《欢乐颂2》电视剧热播'))\n",
    "print(english_characters('Docs To Go™ Free Office Suite'))\n",
    "print(english_characters('Instachat 😜'))"
   ]
  },
  {
   "cell_type": "markdown",
   "metadata": {},
   "source": [
    "This is better. Now let's go through both datasets, remove any apps with names we identify as non-English, and add the apps to a new list."
   ]
  },
  {
   "cell_type": "code",
   "execution_count": 15,
   "metadata": {},
   "outputs": [
    {
     "name": "stdout",
     "output_type": "stream",
     "text": [
      "Google Play English-language apps: 9614\n",
      "Apple Store English-language apps: 6183\n"
     ]
    }
   ],
   "source": [
    "# A new dataset for each platform with non-English-language apps removed\n",
    "google_english = []\n",
    "apple_english = []\n",
    "\n",
    "for app in google_unique:\n",
    "    if english_characters(app[0]):\n",
    "        google_english.append(app)\n",
    "        \n",
    "for app in apple_dataset:\n",
    "    if english_characters(app[1]):\n",
    "        apple_english.append(app)\n",
    "        \n",
    "print(\"Google Play English-language apps: \" + str(len(google_english)))\n",
    "print(\"Apple Store English-language apps: \" + str(len(apple_english)))"
   ]
  },
  {
   "cell_type": "markdown",
   "metadata": {},
   "source": [
    "## Step 4: Isolating Free Applications\n",
    "\n",
    "So far, we have:\n",
    "* Removed inaccurate data\n",
    "* Removed duplicate entries\n",
    "* Removed non-English applications\n",
    "\n",
    "Since the company for which we are preparing this data only makes applications which are free to download, for the best analysis we need to analyze only free apps. However, our current datasets still contain both free and paid apps. We need to search and remove all the paid apps from our datasets."
   ]
  },
  {
   "cell_type": "code",
   "execution_count": 16,
   "metadata": {},
   "outputs": [
    {
     "name": "stdout",
     "output_type": "stream",
     "text": [
      "Free Google Play apps: 8864\n",
      "Free Apple Store apps: 3222\n"
     ]
    }
   ],
   "source": [
    "# New lists for each platform with paid apps removed\n",
    "google_free = []\n",
    "apple_free = []\n",
    "\n",
    "for app in google_english:\n",
    "    if app[7][0] == '$': # If the price includes a \"$\", remove it\n",
    "        price = float(app[7][1:])\n",
    "    else:\n",
    "        price = float(app[7])\n",
    "    if price == 0.0:\n",
    "        google_free.append(app)\n",
    "        \n",
    "for app in apple_english:\n",
    "    price = float(app[4])\n",
    "    if price == 0.0:\n",
    "        apple_free.append(app)\n",
    "        \n",
    "print(\"Free Google Play apps: \" + str(len(google_free)))\n",
    "print(\"Free Apple Store apps: \" + str(len(apple_free)))"
   ]
  },
  {
   "cell_type": "markdown",
   "metadata": {},
   "source": [
    "# Analyzing the Data\n",
    "\n",
    "As we have already covered, we want apps that are successful on both platforms and are looking to determine what types of free apps would be best to develop. Since revenue will be add-based, we want to find apps that will have many users and where users will be satisfied with their experience and want to return to the app over and over."
   ]
  },
  {
   "cell_type": "markdown",
   "metadata": {},
   "source": [
    "## Analyzing Applications by Genre / Category\n",
    "\n",
    "One of the key factors in application development will be the genre or category of app that is developed. We are looking to find a space where there is room for more applications to be developed. For the App Store, this information is `prime_genre`, index 11 of our dataset. For Google Play, we can look both at `Category`, index 1 and `Genres`, index 9.\n",
    "\n",
    "We start with a function `freq_table` which can group each dataset of applications into a frequency table by percentage for each column of our data.  We also include a function `display_table` which can take our data and not only turn it into a frequency table but display it in descending order of frequency."
   ]
  },
  {
   "cell_type": "code",
   "execution_count": 17,
   "metadata": {},
   "outputs": [
    {
     "name": "stdout",
     "output_type": "stream",
     "text": [
      "\u001b[1mFree English-Language Apple Store Apps by Genre\u001b[0m\n",
      "Games : 58.16\n",
      "Entertainment : 7.88\n",
      "Photo & Video : 4.97\n",
      "Education : 3.66\n",
      "Social Networking : 3.29\n",
      "Shopping : 2.61\n",
      "Utilities : 2.51\n",
      "Sports : 2.14\n",
      "Music : 2.05\n",
      "Health & Fitness : 2.02\n",
      "Productivity : 1.74\n",
      "Lifestyle : 1.58\n",
      "News : 1.33\n",
      "Travel : 1.24\n",
      "Finance : 1.12\n",
      "Weather : 0.87\n",
      "Food & Drink : 0.81\n",
      "Reference : 0.56\n",
      "Business : 0.53\n",
      "Book : 0.43\n",
      "Navigation : 0.19\n",
      "Medical : 0.19\n",
      "Catalogs : 0.12\n",
      "\n",
      "\n",
      "\u001b[1mFree English-Language Google Play Apps by Category\u001b[0m\n",
      "FAMILY : 18.91\n",
      "GAME : 9.72\n",
      "TOOLS : 8.46\n",
      "BUSINESS : 4.59\n",
      "LIFESTYLE : 3.9\n",
      "PRODUCTIVITY : 3.89\n",
      "FINANCE : 3.7\n",
      "MEDICAL : 3.53\n",
      "SPORTS : 3.4\n",
      "PERSONALIZATION : 3.32\n",
      "COMMUNICATION : 3.24\n",
      "HEALTH_AND_FITNESS : 3.08\n",
      "PHOTOGRAPHY : 2.94\n",
      "NEWS_AND_MAGAZINES : 2.8\n",
      "SOCIAL : 2.66\n",
      "TRAVEL_AND_LOCAL : 2.34\n",
      "SHOPPING : 2.25\n",
      "BOOKS_AND_REFERENCE : 2.14\n",
      "DATING : 1.86\n",
      "VIDEO_PLAYERS : 1.79\n",
      "MAPS_AND_NAVIGATION : 1.4\n",
      "FOOD_AND_DRINK : 1.24\n",
      "EDUCATION : 1.16\n",
      "ENTERTAINMENT : 0.96\n",
      "LIBRARIES_AND_DEMO : 0.94\n",
      "AUTO_AND_VEHICLES : 0.93\n",
      "HOUSE_AND_HOME : 0.82\n",
      "WEATHER : 0.8\n",
      "EVENTS : 0.71\n",
      "PARENTING : 0.65\n",
      "ART_AND_DESIGN : 0.64\n",
      "COMICS : 0.62\n",
      "BEAUTY : 0.6\n",
      "\n",
      "\n",
      "\u001b[1mFree English-Language Google Play Apps by Genre\u001b[0m\n",
      "Tools : 8.45\n",
      "Entertainment : 6.07\n",
      "Education : 5.35\n",
      "Business : 4.59\n",
      "Productivity : 3.89\n",
      "Lifestyle : 3.89\n",
      "Finance : 3.7\n",
      "Medical : 3.53\n",
      "Sports : 3.46\n",
      "Personalization : 3.32\n",
      "Communication : 3.24\n",
      "Action : 3.1\n",
      "Health & Fitness : 3.08\n",
      "Photography : 2.94\n",
      "News & Magazines : 2.8\n",
      "Social : 2.66\n",
      "Travel & Local : 2.32\n",
      "Shopping : 2.25\n",
      "Books & Reference : 2.14\n",
      "Simulation : 2.04\n",
      "Dating : 1.86\n",
      "Arcade : 1.85\n",
      "Video Players & Editors : 1.77\n",
      "Casual : 1.76\n",
      "Maps & Navigation : 1.4\n",
      "Food & Drink : 1.24\n",
      "Puzzle : 1.13\n",
      "Racing : 0.99\n",
      "Role Playing : 0.94\n",
      "Libraries & Demo : 0.94\n",
      "Auto & Vehicles : 0.93\n",
      "Strategy : 0.91\n",
      "House & Home : 0.82\n",
      "Weather : 0.8\n",
      "Events : 0.71\n",
      "Adventure : 0.68\n",
      "Comics : 0.61\n",
      "Beauty : 0.6\n",
      "Art & Design : 0.6\n",
      "Parenting : 0.5\n",
      "Card : 0.45\n",
      "Casino : 0.43\n",
      "Trivia : 0.42\n",
      "Educational;Education : 0.39\n",
      "Board : 0.38\n",
      "Educational : 0.37\n",
      "Education;Education : 0.34\n",
      "Word : 0.26\n",
      "Casual;Pretend Play : 0.24\n",
      "Music : 0.2\n",
      "Racing;Action & Adventure : 0.17\n",
      "Puzzle;Brain Games : 0.17\n",
      "Entertainment;Music & Video : 0.17\n",
      "Casual;Brain Games : 0.14\n",
      "Casual;Action & Adventure : 0.14\n",
      "Arcade;Action & Adventure : 0.12\n",
      "Action;Action & Adventure : 0.1\n",
      "Educational;Pretend Play : 0.09\n",
      "Simulation;Action & Adventure : 0.08\n",
      "Parenting;Education : 0.08\n",
      "Entertainment;Brain Games : 0.08\n",
      "Board;Brain Games : 0.08\n",
      "Parenting;Music & Video : 0.07\n",
      "Educational;Brain Games : 0.07\n",
      "Casual;Creativity : 0.07\n",
      "Art & Design;Creativity : 0.07\n",
      "Education;Pretend Play : 0.06\n",
      "Role Playing;Pretend Play : 0.05\n",
      "Education;Creativity : 0.05\n",
      "Role Playing;Action & Adventure : 0.03\n",
      "Puzzle;Action & Adventure : 0.03\n",
      "Entertainment;Creativity : 0.03\n",
      "Entertainment;Action & Adventure : 0.03\n",
      "Educational;Creativity : 0.03\n",
      "Educational;Action & Adventure : 0.03\n",
      "Education;Music & Video : 0.03\n",
      "Education;Brain Games : 0.03\n",
      "Education;Action & Adventure : 0.03\n",
      "Adventure;Action & Adventure : 0.03\n",
      "Video Players & Editors;Music & Video : 0.02\n",
      "Sports;Action & Adventure : 0.02\n",
      "Simulation;Pretend Play : 0.02\n",
      "Puzzle;Creativity : 0.02\n",
      "Music;Music & Video : 0.02\n",
      "Entertainment;Pretend Play : 0.02\n",
      "Casual;Education : 0.02\n",
      "Board;Action & Adventure : 0.02\n",
      "Video Players & Editors;Creativity : 0.01\n",
      "Trivia;Education : 0.01\n",
      "Travel & Local;Action & Adventure : 0.01\n",
      "Tools;Education : 0.01\n",
      "Strategy;Education : 0.01\n",
      "Strategy;Creativity : 0.01\n",
      "Strategy;Action & Adventure : 0.01\n",
      "Simulation;Education : 0.01\n",
      "Role Playing;Brain Games : 0.01\n",
      "Racing;Pretend Play : 0.01\n",
      "Puzzle;Education : 0.01\n",
      "Parenting;Brain Games : 0.01\n",
      "Music & Audio;Music & Video : 0.01\n",
      "Lifestyle;Pretend Play : 0.01\n",
      "Lifestyle;Education : 0.01\n",
      "Health & Fitness;Education : 0.01\n",
      "Health & Fitness;Action & Adventure : 0.01\n",
      "Entertainment;Education : 0.01\n",
      "Communication;Creativity : 0.01\n",
      "Comics;Creativity : 0.01\n",
      "Casual;Music & Video : 0.01\n",
      "Card;Action & Adventure : 0.01\n",
      "Books & Reference;Education : 0.01\n",
      "Art & Design;Pretend Play : 0.01\n",
      "Art & Design;Action & Adventure : 0.01\n",
      "Arcade;Pretend Play : 0.01\n",
      "Adventure;Education : 0.01\n"
     ]
    }
   ],
   "source": [
    "def freq_table(dataset, index):\n",
    "    table = {}\n",
    "    item_list = []\n",
    "    for item in dataset:\n",
    "        item_list.append(item[index])\n",
    "    for item in item_list:\n",
    "        if item not in table:\n",
    "            table[item] = 1\n",
    "        else:\n",
    "            table[item] += 1\n",
    "            \n",
    "    # Convert to a percentage       \n",
    "    for item in table:\n",
    "        table[item] = round(table[item] / len(dataset) * 100, 2)\n",
    "    return table\n",
    "\n",
    "def display_table(dataset, index):\n",
    "    table = freq_table(dataset, index)\n",
    "    \n",
    "    # Convert the frequency table from a dictionary to a list of tuples\n",
    "    table_display = []\n",
    "    for key in table:\n",
    "        key_val_as_tuple = (table[key], key)\n",
    "        table_display.append(key_val_as_tuple)\n",
    "\n",
    "    # Sort the table in descending order\n",
    "    table_sorted = sorted(table_display, reverse = True)\n",
    "    for entry in table_sorted:\n",
    "        print(entry[1], ':', entry[0])\n",
    "    return\n",
    "\n",
    "print('\\033[1m' + 'Free English-Language Apple Store Apps by Genre' + '\\033[0m')\n",
    "display_table(apple_free, 11)\n",
    "print(\"\\n\")\n",
    "print('\\033[1m' + 'Free English-Language Google Play Apps by Category' + '\\033[0m')\n",
    "display_table(google_free, 1)\n",
    "print(\"\\n\")\n",
    "print('\\033[1m' + 'Free English-Language Google Play Apps by Genre' + '\\033[0m')\n",
    "display_table(google_free, 9)"
   ]
  },
  {
   "cell_type": "markdown",
   "metadata": {},
   "source": [
    "## Finding the Best App Store Recommendation\n",
    "\n",
    "We see that, by far, the most common application genre in the App Store is Games as over half of the applications in our dataset are categorized as games. This tells us what is most common by number of apps, but it doesn't the important information of how popular each type of app is. \n",
    "\n",
    "We don't have number of downloads available in this dataset, but we can use total ratings which should be a fairly good proxy for downloads. We create a frequency table for each type of genre and then find the average number of ratings for each of these genres."
   ]
  },
  {
   "cell_type": "code",
   "execution_count": 18,
   "metadata": {},
   "outputs": [
    {
     "name": "stdout",
     "output_type": "stream",
     "text": [
      "\u001b[1mAverage Number of Ratings for App Store Applications by Genre\u001b[0m\n",
      "Social Networking: 71548.35\n",
      "Photo & Video: 28441.54\n",
      "Games: 22788.67\n",
      "Music: 57326.53\n",
      "Reference: 74942.11\n",
      "Health & Fitness: 23298.02\n",
      "Weather: 52279.89\n",
      "Utilities: 18684.46\n",
      "Travel: 28243.8\n",
      "Shopping: 26919.69\n",
      "News: 21248.02\n",
      "Navigation: 86090.33\n",
      "Lifestyle: 16485.76\n",
      "Entertainment: 14029.83\n",
      "Food & Drink: 33333.92\n",
      "Sports: 23008.9\n",
      "Book: 39758.5\n",
      "Finance: 31467.94\n",
      "Education: 7003.98\n",
      "Productivity: 21028.41\n",
      "Business: 7491.12\n",
      "Catalogs: 4004.0\n",
      "Medical: 612.0\n"
     ]
    }
   ],
   "source": [
    "apple_genres = freq_table(apple_free, 11)\n",
    "\n",
    "print('\\033[1m' + \"Average Number of Ratings for App Store Applications by Genre\" + '\\033[0m')\n",
    "for genre in apple_genres:\n",
    "    total = 0\n",
    "    len_genre = 0\n",
    "    for app in apple_free:\n",
    "        genre_app = app[11]\n",
    "        if genre_app == genre:\n",
    "            total += float(app[5])\n",
    "            len_genre += 1\n",
    "    avg_ratings = total / len_genre\n",
    "    print(genre + \": \" + str(round(avg_ratings, 2)))    "
   ]
  },
  {
   "cell_type": "markdown",
   "metadata": {},
   "source": [
    "The top five genres by number of reviews are Navigation, Reference, Social Networking, Music, and Weather. Let's look at each of these genres more closely to see whether it is an area of potential. We'll look at the number of reviews for the top ten most-reviewed apps in each of the selected genres."
   ]
  },
  {
   "cell_type": "code",
   "execution_count": 19,
   "metadata": {
    "scrolled": false
   },
   "outputs": [
    {
     "name": "stdout",
     "output_type": "stream",
     "text": [
      "\u001b[1mNumber of Ratings for Top 10 App Store Apps by Genre\u001b[0m\n",
      "\n",
      "\n",
      "\u001b[1mSocial Networking\u001b[0m\n",
      "Facebook: 2974676\n",
      "Pinterest: 1061624\n",
      "Skype for iPhone: 373519\n",
      "Messenger: 351466\n",
      "Tumblr: 334293\n",
      "WhatsApp Messenger: 287589\n",
      "Kik: 260965\n",
      "ooVoo – Free Video Call, Text and Voice: 177501\n",
      "TextNow - Unlimited Text + Calls: 164963\n",
      "Viber Messenger – Text & Call: 164249\n",
      "Total Apps: 106\n",
      "\n",
      "\n",
      "\u001b[1mWeather\u001b[0m\n",
      "The Weather Channel: Forecast, Radar & Alerts: 495626\n",
      "The Weather Channel App for iPad – best local forecast, radar map, and storm tracking: 208648\n",
      "WeatherBug - Local Weather, Radar, Maps, Alerts: 188583\n",
      "MyRadar NOAA Weather Radar Forecast: 150158\n",
      "AccuWeather - Weather for Life: 144214\n",
      "Yahoo Weather: 112603\n",
      "Weather Underground: Custom Forecast & Local Radar: 49192\n",
      "NOAA Weather Radar - Weather Forecast & HD Radar: 45696\n",
      "Weather Live Free - Weather Forecast & Alerts: 35702\n",
      "Storm Radar: 22792\n",
      "Total Apps: 28\n",
      "\n",
      "\n",
      "\u001b[1mNavigation\u001b[0m\n",
      "Waze - GPS Navigation, Maps & Real-time Traffic: 345046\n",
      "Google Maps - Navigation & Transit: 154911\n",
      "Geocaching®: 12811\n",
      "CoPilot GPS – Car Navigation & Offline Maps: 3582\n",
      "ImmobilienScout24: Real Estate Search in Germany: 187\n",
      "Railway Route Search: 5\n",
      "Total Apps: 6\n",
      "\n",
      "\n",
      "\u001b[1mMusic\u001b[0m\n",
      "Pandora - Music & Radio: 1126879\n",
      "Spotify Music: 878563\n",
      "Shazam - Discover music, artists, videos & lyrics: 402925\n",
      "iHeartRadio – Free Music & Radio Stations: 293228\n",
      "SoundCloud - Music & Audio: 135744\n",
      "Magic Piano by Smule: 131695\n",
      "Smule Sing!: 119316\n",
      "TuneIn Radio - MLB NBA Audiobooks Podcasts Music: 110420\n",
      "Amazon Music: 106235\n",
      "SoundHound Song Search & Music Player: 82602\n",
      "Total Apps: 66\n",
      "\n",
      "\n",
      "\u001b[1mReference\u001b[0m\n",
      "Bible: 985920\n",
      "Dictionary.com Dictionary & Thesaurus: 200047\n",
      "Dictionary.com Dictionary & Thesaurus for iPad: 54175\n",
      "Google Translate: 26786\n",
      "Muslim Pro: Ramadan 2017 Prayer Times, Azan, Quran: 18418\n",
      "New Furniture Mods - Pocket Wiki & Game Tools for Minecraft PC Edition: 17588\n",
      "Merriam-Webster Dictionary: 16849\n",
      "Night Sky: 12122\n",
      "City Maps for Minecraft PE - The Best Maps for Minecraft Pocket Edition (MCPE): 8535\n",
      "LUCKY BLOCK MOD ™ for Minecraft PC Edition - The Best Pocket Wiki & Mods Installer Tools: 4693\n",
      "Total Apps: 18\n",
      "\n",
      "\n"
     ]
    }
   ],
   "source": [
    "genre_checker = {'Navigation', 'Reference', 'Social Networking', 'Music', 'Weather'}\n",
    "\n",
    "print('\\033[1m' + \"Number of Ratings for Top 10 App Store Apps by Genre\" + '\\033[0m')\n",
    "print('\\n')\n",
    "\n",
    "for genre in genre_checker:\n",
    "    reviews = 0\n",
    "    total = 0\n",
    "    print('\\033[1m' + genre + '\\033[0m')\n",
    "    for app in apple_free:\n",
    "        if app[11] == genre:\n",
    "            total += 1\n",
    "            if total <= 10:\n",
    "                print(app[1] + \": \" + app[5])\n",
    "    print(\"Total Apps: \" + str(total))\n",
    "    print('\\n')"
   ]
  },
  {
   "cell_type": "markdown",
   "metadata": {},
   "source": [
    "While each of these categories have a high average number of ratings, the total number of applications is very low and the number of ratings is heavily skewed by only a few apps. Removing only one or two apps from each category brings them back into line with the averages for many other categories, suggesting that these genres may not actually be the most popular. Let's examine the Games category since it is overwhelmingly the most popular category."
   ]
  },
  {
   "cell_type": "code",
   "execution_count": 20,
   "metadata": {
    "scrolled": false
   },
   "outputs": [
    {
     "name": "stdout",
     "output_type": "stream",
     "text": [
      "\u001b[1mNumber of Ratings for App Store Apps with Genre \"Games\"\u001b[0m\n",
      "\n",
      "\n",
      "\u001b[1mGames\u001b[0m\n",
      "Clash of Clans: 2130805\n",
      "Temple Run: 1724546\n",
      "Candy Crush Saga: 961794\n",
      "Angry Birds: 824451\n",
      "Subway Surfers: 706110\n",
      "Solitaire: 679055\n",
      "CSR Racing: 677247\n",
      "Crossy Road - Endless Arcade Hopper: 669079\n",
      "Injustice: Gods Among Us: 612532\n",
      "Hay Day: 567344\n",
      "PAC-MAN: 508808\n",
      "DragonVale: 503230\n",
      "Head Soccer: 481564\n",
      "Despicable Me: Minion Rush: 464312\n",
      "The Sims™ FreePlay: 446880\n",
      "Sonic Dash: 418033\n",
      "8 Ball Pool™: 416736\n",
      "Tiny Tower - Free City Building: 414803\n",
      "Jetpack Joyride: 405647\n",
      "\n",
      "\n",
      "\u001b[1mTotal Apps: \u001b[0m1874\n"
     ]
    }
   ],
   "source": [
    "print('\\033[1m' + 'Number of Ratings for App Store Apps with Genre \"Games\"' + '\\033[0m')\n",
    "print('\\n')\n",
    "\n",
    "genre = 'Games'\n",
    "reviews = 0\n",
    "total = 0\n",
    "print('\\033[1m' + genre + '\\033[0m')\n",
    "for app in apple_free:\n",
    "    if app[11] == genre:\n",
    "        total += 1\n",
    "        if total < 20:\n",
    "            print(app[1] + \": \" + app[5])\n",
    "print('\\n')\n",
    "print('\\033[1m' + \"Total Apps: \" + '\\033[0m' + str(total))\n"
   ]
  },
  {
   "cell_type": "markdown",
   "metadata": {},
   "source": [
    "While there are a couple of applications with a very large number of ratings, removing them doesn't bring the average number of ratings down tremendously. Let's also look at the most popular genres by average rating."
   ]
  },
  {
   "cell_type": "code",
   "execution_count": 21,
   "metadata": {},
   "outputs": [
    {
     "name": "stdout",
     "output_type": "stream",
     "text": [
      "\u001b[1mAverage Ratings for App Store Applications by Genre\u001b[0m\n",
      "Social Networking: 3.59\n",
      "Photo & Video: 3.9\n",
      "Games: 4.04\n",
      "Music: 3.95\n",
      "Reference: 3.67\n",
      "Health & Fitness: 3.77\n",
      "Weather: 3.48\n",
      "Utilities: 3.53\n",
      "Travel: 3.49\n",
      "Shopping: 3.97\n",
      "News: 3.24\n",
      "Navigation: 3.83\n",
      "Lifestyle: 3.41\n",
      "Entertainment: 3.54\n",
      "Food & Drink: 3.63\n",
      "Sports: 3.07\n",
      "Book: 3.07\n",
      "Finance: 3.38\n",
      "Education: 3.64\n",
      "Productivity: 4.0\n",
      "Business: 3.97\n",
      "Catalogs: 4.12\n",
      "Medical: 3.0\n"
     ]
    }
   ],
   "source": [
    "print('\\033[1m' + \"Average Ratings for App Store Applications by Genre\" + '\\033[0m')\n",
    "\n",
    "\n",
    "for genre in apple_genres:\n",
    "    total = 0\n",
    "    len_genre = 0\n",
    "    for app in apple_free:\n",
    "        genre_app = app[11]\n",
    "        if genre_app == genre:\n",
    "            total += float(app[7])\n",
    "            len_genre += 1\n",
    "    avg_ratings = total / len_genre\n",
    "    print(genre + \": \" + str(round(avg_ratings, 2)))    "
   ]
  },
  {
   "cell_type": "markdown",
   "metadata": {},
   "source": [
    "We can see that the Games genre has the second highest average rating behind only Catalogs, a category with only four (0.12% * 3222) applications and a very small number of average ratings. This fact, combined with our earlier look at the sheer number of gaming apps suggests that applications in the gaming category would do very well. In addition, the large number of gaming apps means that multiple apps could likely be released without taking measurable market share from one another."
   ]
  },
  {
   "cell_type": "markdown",
   "metadata": {},
   "source": [
    "## Finding the Best Google Play Recommendation\n",
    "\n",
    "Our Google Play dataset has information on downloads, so we can use this information instead of number of ratings. Displaying a frequency table by number of downloads shows that there are not specific data for each number of downloads but that they are grouped in ranges."
   ]
  },
  {
   "cell_type": "code",
   "execution_count": 22,
   "metadata": {},
   "outputs": [
    {
     "name": "stdout",
     "output_type": "stream",
     "text": [
      "\u001b[1mGoogle Play Apps by Number of Downloads\u001b[0m\n",
      "1,000,000+ : 15.73\n",
      "100,000+ : 11.55\n",
      "10,000,000+ : 10.55\n",
      "10,000+ : 10.2\n",
      "1,000+ : 8.39\n",
      "100+ : 6.92\n",
      "5,000,000+ : 6.83\n",
      "500,000+ : 5.56\n",
      "50,000+ : 4.77\n",
      "5,000+ : 4.51\n",
      "10+ : 3.54\n",
      "500+ : 3.25\n",
      "50,000,000+ : 2.3\n",
      "100,000,000+ : 2.13\n",
      "50+ : 1.92\n",
      "5+ : 0.79\n",
      "1+ : 0.51\n",
      "500,000,000+ : 0.27\n",
      "1,000,000,000+ : 0.23\n",
      "0+ : 0.05\n",
      "0 : 0.01\n"
     ]
    }
   ],
   "source": [
    "print('\\033[1m' + \"Google Play Apps by Number of Downloads\" + '\\033[0m')\n",
    "\n",
    "display_table(google_free, 5)"
   ]
  },
  {
   "cell_type": "markdown",
   "metadata": {},
   "source": [
    "Since we can't know the precise number of downloads for each application, we'll consider each number as the absolute minimum for its range. For example, is the application is listed as having 100,000+ downloads, we will count it as having 100,000 downloads. If an app is listed as having 50,000,000+ downloads, we will count it as having 50,000,000 downloads."
   ]
  },
  {
   "cell_type": "code",
   "execution_count": 23,
   "metadata": {
    "scrolled": true
   },
   "outputs": [
    {
     "name": "stdout",
     "output_type": "stream",
     "text": [
      "\u001b[1mAverage Number of Downloads for Google Play Apps by Genre\u001b[0m\n",
      "ART_AND_DESIGN: 1,986,335\n",
      "AUTO_AND_VEHICLES: 647,318\n",
      "BEAUTY: 513,152\n",
      "BOOKS_AND_REFERENCE: 8,767,812\n",
      "BUSINESS: 1,712,290\n",
      "COMICS: 817,657\n",
      "COMMUNICATION: 38,456,119\n",
      "DATING: 854,029\n",
      "EDUCATION: 1,833,495\n",
      "ENTERTAINMENT: 11,640,706\n",
      "EVENTS: 253,542\n",
      "FINANCE: 1,387,692\n",
      "FOOD_AND_DRINK: 1,924,898\n",
      "HEALTH_AND_FITNESS: 4,188,822\n",
      "HOUSE_AND_HOME: 1,331,541\n",
      "LIBRARIES_AND_DEMO: 638,504\n",
      "LIFESTYLE: 1,437,816\n",
      "GAME: 15,588,016\n",
      "FAMILY: 3,695,642\n",
      "MEDICAL: 120,551\n",
      "SOCIAL: 23,253,652\n",
      "SHOPPING: 7,036,877\n",
      "PHOTOGRAPHY: 17,840,110\n",
      "SPORTS: 3,638,640\n",
      "TRAVEL_AND_LOCAL: 13,984,078\n",
      "TOOLS: 10,801,391\n",
      "PERSONALIZATION: 5,201,483\n",
      "PRODUCTIVITY: 16,787,331\n",
      "PARENTING: 542,604\n",
      "WEATHER: 5,074,486\n",
      "VIDEO_PLAYERS: 24,727,872\n",
      "NEWS_AND_MAGAZINES: 9,549,178\n",
      "MAPS_AND_NAVIGATION: 4,056,942\n"
     ]
    }
   ],
   "source": [
    "google_categories = freq_table(google_free, 1)\n",
    "\n",
    "google_category = []\n",
    "\n",
    "print('\\033[1m' + \"Average Number of Downloads for Google Play Apps by Genre\" + '\\033[0m')\n",
    "\n",
    "for category in google_categories:\n",
    "    total = 0\n",
    "    len_category = 0\n",
    "    for app in google_free:\n",
    "        category_app = app[1]\n",
    "        if category_app == category:\n",
    "            n_installs = app[5]\n",
    "            \n",
    "            # Remove ',' and '+' from download string\n",
    "            n_installs = n_installs.replace(',', '')\n",
    "            n_installs = n_installs.replace('+', '')\n",
    "            total += float(n_installs)\n",
    "            len_category += 1\n",
    "            \n",
    "    # Find the average number of installs and round it to the nearest number\n",
    "    avg_installs = total / len_category\n",
    "    avg_installs = round(avg_installs)\n",
    "    \n",
    "    # Add back comma separators for readability\n",
    "    print(category + \": \", end =\"\")\n",
    "    print(f\"{avg_installs:,}\")"
   ]
  },
  {
   "cell_type": "markdown",
   "metadata": {},
   "source": [
    "While Family is the most popular category in the Google Play store by number of apps, it is one of the less popular categories in terms of downloads per application. Games, the second most popular category in number of apps, is the sixth most popular category in downloads per application. While there are five other categories that have more downloads, the fact that it is very popular in the Google Play store, coupled with the Games category's incredible popularity in the Apple Store suggests that we should look at this category in more detail and see if it would be a good recommendation for both platforms."
   ]
  },
  {
   "cell_type": "code",
   "execution_count": 24,
   "metadata": {
    "scrolled": true
   },
   "outputs": [
    {
     "name": "stdout",
     "output_type": "stream",
     "text": [
      "\u001b[1mAverage Rating and Total Ratings for Google Play Apps by Genre\u001b[0m\n",
      "ART_AND_DESIGN: 4.34, 55\n",
      "AUTO_AND_VEHICLES: 4.18, 72\n",
      "BEAUTY: 4.28, 42\n",
      "BOOKS_AND_REFERENCE: 4.35, 159\n",
      "BUSINESS: 4.1, 253\n",
      "COMICS: 4.18, 53\n",
      "COMMUNICATION: 4.13, 234\n",
      "DATING: 3.98, 131\n",
      "EDUCATION: 4.34, 102\n",
      "ENTERTAINMENT: 4.12, 85\n",
      "EVENTS: 4.44, 45\n",
      "FINANCE: 4.13, 289\n",
      "FOOD_AND_DRINK: 4.17, 92\n",
      "HEALTH_AND_FITNESS: 4.24, 233\n",
      "HOUSE_AND_HOME: 4.14, 61\n",
      "LIBRARIES_AND_DEMO: 4.18, 64\n",
      "LIFESTYLE: 4.08, 279\n",
      "GAME: 4.23, 821\n",
      "FAMILY: 4.17, 1484\n",
      "MEDICAL: 4.15, 228\n",
      "SOCIAL: 4.25, 201\n",
      "SHOPPING: 4.23, 178\n",
      "PHOTOGRAPHY: 4.16, 248\n",
      "SPORTS: 4.21, 238\n",
      "TRAVEL_AND_LOCAL: 4.07, 179\n",
      "TOOLS: 4.03, 657\n",
      "PERSONALIZATION: 4.3, 233\n",
      "PRODUCTIVITY: 4.18, 282\n",
      "PARENTING: 4.34, 48\n",
      "WEATHER: 4.23, 65\n",
      "VIDEO_PLAYERS: 4.04, 145\n",
      "NEWS_AND_MAGAZINES: 4.1, 198\n",
      "MAPS_AND_NAVIGATION: 4.04, 112\n"
     ]
    }
   ],
   "source": [
    "import math\n",
    "\n",
    "print('\\033[1m' + \"Average Rating and Total Ratings for Google Play Apps by Genre\" + '\\033[0m')\n",
    "\n",
    "for category in google_categories:\n",
    "    total = 0\n",
    "    len_category = 0\n",
    "    for app in google_free:\n",
    "        category_app = app[1]\n",
    "        # Remove NaN entries to properly calculate the average rating\n",
    "        if category_app == category and not math.isnan(float(app[2])):\n",
    "            total += float(app[2])\n",
    "            len_category += 1\n",
    "    avg_ratings = total / len_category\n",
    "    print(category + \": \" + str(round(avg_ratings, 2)) + \", \" + str(len_category))    "
   ]
  },
  {
   "cell_type": "markdown",
   "metadata": {},
   "source": [
    "Unfortunately, unlike with the App Store, looking at ratings doesn't tell us very much for the Google Play store, both because the ratings across categories do not have much variance and because the total number of ratings is low across nearly every category."
   ]
  },
  {
   "cell_type": "markdown",
   "metadata": {},
   "source": [
    "# Conclusions\n",
    "\n",
    "While the datasets for App Store and Google Play apps provide us with different information, applications categorized as games look to be the best to develop in order to have success with free, ad-based revenue applications on both Android and iOS.\n",
    "\n",
    "1. Games are by far the most popular app in the App Store dataset. While there are so many games from which to choose, the category still has an average number of downloads per application.\n",
    "2. Games are one of the most liked apps on the platform, having the second-highest rating of any genre.\n",
    "3. While the distribution of apps is very different for the Play Store dataset, games are still the second-most popular app category.\n",
    "4. In spite of the fact that there are so many games available in the Play Store, the category is still the sixth-most popular in terms of average downloads.\n",
    "\n",
    "All of this data suggests that one, people like to play games and are actively looking to download these apps and two, people enjoy these types of apps and are likely to play them for longer periods of time than other categories. While it is my recommendation to develop game applications for release on both Android and iOS, I recommend that you first do more research on this specific genre of application in order to discover what type of game apps might be most successful."
   ]
  }
 ],
 "metadata": {
  "kernelspec": {
   "display_name": "Python 3",
   "language": "python",
   "name": "python3"
  },
  "language_info": {
   "codemirror_mode": {
    "name": "ipython",
    "version": 3
   },
   "file_extension": ".py",
   "mimetype": "text/x-python",
   "name": "python",
   "nbconvert_exporter": "python",
   "pygments_lexer": "ipython3",
   "version": "3.8.2"
  }
 },
 "nbformat": 4,
 "nbformat_minor": 2
}
